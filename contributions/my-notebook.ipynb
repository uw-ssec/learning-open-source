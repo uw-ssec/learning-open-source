{
 "cells": [
  {
   "cell_type": "markdown",
   "id": "72c5481f-3964-45f6-b664-a30b36809c35",
   "metadata": {},
   "source": [
    "# My first notebook\n",
    "\n",
    "This is my first notebook example.\n",
    "I will be running some code later."
   ]
  },
  {
   "cell_type": "code",
   "execution_count": 1,
   "id": "dcf63a4e-0efb-4b04-b1c3-a68e0f6e0e1f",
   "metadata": {},
   "outputs": [
    {
     "name": "stdout",
     "output_type": "stream",
     "text": [
      "1.25.1\n"
     ]
    }
   ],
   "source": [
    "import numpy\n",
    "\n",
    "print(numpy.__version__)"
   ]
  },
  {
   "cell_type": "code",
   "execution_count": 2,
   "id": "d44f65e1-b653-45d8-8dbb-41fdb89a5118",
   "metadata": {},
   "outputs": [
    {
     "name": "stdout",
     "output_type": "stream",
     "text": [
      "[0 1 2 3 4 5 6 7 8 9]\n"
     ]
    }
   ],
   "source": [
    "array = numpy.arange(10)\n",
    "\n",
    "print(array)"
   ]
  },
  {
   "cell_type": "code",
   "execution_count": null,
   "id": "696d025e-21e8-441e-a992-100808fc2fad",
   "metadata": {},
   "outputs": [],
   "source": []
  }
 ],
 "metadata": {
  "kernelspec": {
   "display_name": "Python [conda env:echopype]",
   "language": "python",
   "name": "conda-env-echopype-py"
  },
  "language_info": {
   "codemirror_mode": {
    "name": "ipython",
    "version": 3
   },
   "file_extension": ".py",
   "mimetype": "text/x-python",
   "name": "python",
   "nbconvert_exporter": "python",
   "pygments_lexer": "ipython3",
   "version": "3.9.16"
  }
 },
 "nbformat": 4,
 "nbformat_minor": 5
}
